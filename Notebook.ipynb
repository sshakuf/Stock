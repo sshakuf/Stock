{
 "cells": [
  {
   "cell_type": "code",
   "execution_count": 13,
   "metadata": {},
   "outputs": [],
   "source": [
    "# NYSE\n",
    "import pandas as pd\n",
    "url_nyse = \"http://www.nasdaq.com/screening/companies-by-name.aspx?letter=0&exchange=nyse&render=download\"\n",
    "# Nasdaq\n",
    "#url_nasdaq = \"http://www.nasdaq.com/screening/companies-by-name.aspx?letter=0&exchange=nasdaq&render=download\"\n",
    "url_nasdaq = \"https://old.nasdaq.com/screening/companies-by-name.aspx?letter=0&exchange=nasdaq&render=download\"\n",
    "# AMEX\n",
    "url_amex = \"http://www.nasdaq.com/screening/companies-by-name.aspx?letter=0&exchange=amex&render=download\"\n",
    "\n",
    "\n",
    "df = pd.read_csv(url_nasdaq)\n",
    "\n",
    "#df = pd.DataFrame.from_csv(url_nasdaq)\n",
    "stocks = df.index.tolist()\n",
    "\n"
   ]
  },
  {
   "cell_type": "code",
   "execution_count": 14,
   "metadata": {},
   "outputs": [
    {
     "name": "stdout",
     "output_type": "stream",
     "text": [
      "<class 'pandas.core.frame.DataFrame'>\n",
      "RangeIndex: 3596 entries, 0 to 3595\n",
      "Data columns (total 9 columns):\n",
      "Symbol           3596 non-null object\n",
      "Name             3596 non-null object\n",
      "LastSale         3593 non-null float64\n",
      "MarketCap        3284 non-null object\n",
      "IPOyear          1706 non-null float64\n",
      "Sector           3069 non-null object\n",
      "industry         3069 non-null object\n",
      "Summary Quote    3596 non-null object\n",
      "Unnamed: 8       0 non-null float64\n",
      "dtypes: float64(3), object(6)\n",
      "memory usage: 253.0+ KB\n",
      "None\n"
     ]
    }
   ],
   "source": [
    "#info\n",
    "print(df.info())\n"
   ]
  },
  {
   "cell_type": "code",
   "execution_count": 18,
   "metadata": {},
   "outputs": [
    {
     "data": {
      "text/plain": [
       "(3596, 9)"
      ]
     },
     "execution_count": 18,
     "metadata": {},
     "output_type": "execute_result"
    }
   ],
   "source": [
    "#Shape\n",
    "df.shape"
   ]
  },
  {
   "cell_type": "code",
   "execution_count": 26,
   "metadata": {},
   "outputs": [
    {
     "name": "stdout",
     "output_type": "stream",
     "text": [
      "  Symbol                Name  LastSale MarketCap  IPOyear         Sector  \\\n",
      "0    TXG  10x Genomics, Inc.     88.98    $8.56B   2019.0  Capital Goods   \n",
      "\n",
      "                                           industry  \\\n",
      "0  Biotechnology: Laboratory Analytical Instruments   \n",
      "\n",
      "                       Summary Quote  Unnamed: 8  \n",
      "0  https://old.nasdaq.com/symbol/txg         NaN  \n"
     ]
    }
   ],
   "source": [
    "print(df[0:1])"
   ]
  },
  {
   "cell_type": "code",
   "execution_count": 36,
   "metadata": {},
   "outputs": [
    {
     "data": {
      "text/plain": [
       "Symbol                                                        TXG\n",
       "Name                                           10x Genomics, Inc.\n",
       "LastSale                                                    88.98\n",
       "MarketCap                                                  $8.56B\n",
       "IPOyear                                                      2019\n",
       "Sector                                              Capital Goods\n",
       "industry         Biotechnology: Laboratory Analytical Instruments\n",
       "Summary Quote                   https://old.nasdaq.com/symbol/txg\n",
       "Unnamed: 8                                                    NaN\n",
       "Name: 0, dtype: object"
      ]
     },
     "execution_count": 36,
     "metadata": {},
     "output_type": "execute_result"
    }
   ],
   "source": [
    "#Stock by row by index\n",
    "df.iloc[0]"
   ]
  },
  {
   "cell_type": "code",
   "execution_count": 34,
   "metadata": {},
   "outputs": [
    {
     "data": {
      "text/html": [
       "<div>\n",
       "<style scoped>\n",
       "    .dataframe tbody tr th:only-of-type {\n",
       "        vertical-align: middle;\n",
       "    }\n",
       "\n",
       "    .dataframe tbody tr th {\n",
       "        vertical-align: top;\n",
       "    }\n",
       "\n",
       "    .dataframe thead th {\n",
       "        text-align: right;\n",
       "    }\n",
       "</style>\n",
       "<table border=\"1\" class=\"dataframe\">\n",
       "  <thead>\n",
       "    <tr style=\"text-align: right;\">\n",
       "      <th></th>\n",
       "      <th>Symbol</th>\n",
       "      <th>Name</th>\n",
       "      <th>LastSale</th>\n",
       "      <th>MarketCap</th>\n",
       "      <th>IPOyear</th>\n",
       "      <th>Sector</th>\n",
       "      <th>industry</th>\n",
       "      <th>Summary Quote</th>\n",
       "      <th>Unnamed: 8</th>\n",
       "    </tr>\n",
       "  </thead>\n",
       "  <tbody>\n",
       "    <tr>\n",
       "      <td>0</td>\n",
       "      <td>TXG</td>\n",
       "      <td>10x Genomics, Inc.</td>\n",
       "      <td>88.98</td>\n",
       "      <td>$8.56B</td>\n",
       "      <td>2019.0</td>\n",
       "      <td>Capital Goods</td>\n",
       "      <td>Biotechnology: Laboratory Analytical Instruments</td>\n",
       "      <td>https://old.nasdaq.com/symbol/txg</td>\n",
       "      <td>NaN</td>\n",
       "    </tr>\n",
       "  </tbody>\n",
       "</table>\n",
       "</div>"
      ],
      "text/plain": [
       "  Symbol                Name  LastSale MarketCap  IPOyear         Sector  \\\n",
       "0    TXG  10x Genomics, Inc.     88.98    $8.56B   2019.0  Capital Goods   \n",
       "\n",
       "                                           industry  \\\n",
       "0  Biotechnology: Laboratory Analytical Instruments   \n",
       "\n",
       "                       Summary Quote  Unnamed: 8  \n",
       "0  https://old.nasdaq.com/symbol/txg         NaN  "
      ]
     },
     "execution_count": 34,
     "metadata": {},
     "output_type": "execute_result"
    }
   ],
   "source": [
    "#Find by Name\n",
    "df[df['Symbol'] == \"TXG\"]\n"
   ]
  },
  {
   "cell_type": "code",
   "execution_count": null,
   "metadata": {},
   "outputs": [],
   "source": []
  }
 ],
 "metadata": {
  "kernelspec": {
   "display_name": "Python 3",
   "language": "python",
   "name": "python3"
  },
  "language_info": {
   "codemirror_mode": {
    "name": "ipython",
    "version": 3
   },
   "file_extension": ".py",
   "mimetype": "text/x-python",
   "name": "python",
   "nbconvert_exporter": "python",
   "pygments_lexer": "ipython3",
   "version": "3.7.4"
  }
 },
 "nbformat": 4,
 "nbformat_minor": 2
}